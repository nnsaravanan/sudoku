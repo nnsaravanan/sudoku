{
 "cells": [
  {
   "cell_type": "code",
   "execution_count": 48,
   "metadata": {},
   "outputs": [],
   "source": [
    "sudokulist = [0,0,0,0,0,0,0,0,0,0,0,0,0,0,0,0]\n",
    "pu = []\n",
    "\n",
    "def askforpuzzle():\n",
    "    y = input(\"What's the numbers(seperated by only commas, type 0 if empty): \")\n",
    "    y = y.split(',')\n",
    "    for x in y:\n",
    "        x = int(x)\n",
    "        pu.append(x)\n",
    "    print('|{}|{}|    |{}|{}|\\n\\n|{}|{}|    |{}|{}|\\n\\n\\n|{}|{}|    |{}|{}|\\n\\n|{}|{}|    |{}|{}|'.format(pu[0], pu[1], pu[2], pu[3], pu[4], pu[5], pu[6], pu[7], pu[8], pu[9], pu[10], pu[11], pu[12], pu[13], pu[14], pu[15]))"
   ]
  },
  {
   "cell_type": "code",
   "execution_count": 49,
   "metadata": {},
   "outputs": [
    {
     "name": "stdout",
     "output_type": "stream",
     "text": [
      "What's the numbers(seperated by only commas, type 0 if empty): 0,0,0,0,0,0,0,0,0,0,0,0,0,0,0,0\n",
      "|0|0|    |0|0|\n",
      "\n",
      "|0|0|    |0|0|\n",
      "\n",
      "\n",
      "|0|0|    |0|0|\n",
      "\n",
      "|0|0|    |0|0|\n"
     ]
    }
   ],
   "source": [
    "askforpuzzle()"
   ]
  },
  {
   "cell_type": "code",
   "execution_count": null,
   "metadata": {},
   "outputs": [],
   "source": []
  }
 ],
 "metadata": {
  "kernelspec": {
   "display_name": "Python 3",
   "language": "python",
   "name": "python3"
  },
  "language_info": {
   "codemirror_mode": {
    "name": "ipython",
    "version": 3
   },
   "file_extension": ".py",
   "mimetype": "text/x-python",
   "name": "python",
   "nbconvert_exporter": "python",
   "pygments_lexer": "ipython3",
   "version": "3.7.1"
  }
 },
 "nbformat": 4,
 "nbformat_minor": 2
}
