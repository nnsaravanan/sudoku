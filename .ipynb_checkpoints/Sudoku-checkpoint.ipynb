{
 "cells": [
  {
   "cell_type": "code",
   "execution_count": 2,
   "metadata": {},
   "outputs": [],
   "source": [
    "sudokulist = [0,0,0,0,0,0,0,0,0,0,0,0,0,0,0,0]\n",
    "puzzleunsolved = []\n",
    "\n",
    "def askforpuzzle():\n",
    "    y = input(\"What's the numbers(seperated by only commas, write 0 if empty): \")\n",
    "    y = y.split(',')\n",
    "    for x in y:\n",
    "        x = int(x)\n",
    "        puzzleunsolved.append(x)"
   ]
  },
  {
   "cell_type": "code",
   "execution_count": null,
   "metadata": {},
   "outputs": [],
   "source": [
    "askforpuzzle()\n",
    "print(puzzleunsolved)"
   ]
  },
  {
   "cell_type": "code",
   "execution_count": 1,
   "metadata": {},
   "outputs": [
    {
     "ename": "SyntaxError",
     "evalue": "unexpected EOF while parsing (<ipython-input-1-a4b0fb3903c9>, line 8)",
     "output_type": "error",
     "traceback": [
      "\u001b[1;36m  File \u001b[1;32m\"<ipython-input-1-a4b0fb3903c9>\"\u001b[1;36m, line \u001b[1;32m8\u001b[0m\n\u001b[1;33m    \u001b[0m\n\u001b[1;37m    ^\u001b[0m\n\u001b[1;31mSyntaxError\u001b[0m\u001b[1;31m:\u001b[0m unexpected EOF while parsing\n"
     ]
    }
   ],
   "source": [
    "sudokusolvedhalf = []\n",
    "\n",
    "def solvesudoku(puzzle):\n",
    "    for x in puzzle:\n",
    "        if x == 0:\n",
    "            for y in range(1,5):\n",
    "                \n",
    "        "
   ]
  },
  {
   "cell_type": "code",
   "execution_count": 6,
   "metadata": {},
   "outputs": [
    {
     "name": "stdout",
     "output_type": "stream",
     "text": [
      "|_|_|    |_|_|\n",
      "\n",
      "|_|_|    |_|_|\n",
      "\n",
      "\n",
      "|_|_|    |_|_|\n",
      "\n",
      "|_|_|    |_|_|\n"
     ]
    }
   ],
   "source": [
    "print('|_|_|    |_|_|\\n\\n|_|_|    |_|_|\\n\\n\\n|_|_|    |_|_|\\n\\n|_|_|    |_|_|')"
   ]
  },
  {
   "cell_type": "code",
   "execution_count": 2,
   "metadata": {},
   "outputs": [
    {
     "name": "stdout",
     "output_type": "stream",
     "text": [
      "hello Niteesh\n"
     ]
    }
   ],
   "source": [
    "print (\"hello Niteesh how are you\")"
   ]
  },
  {
   "cell_type": "code",
   "execution_count": 1,
   "metadata": {},
   "outputs": [],
   "source": [
    "### I M working"
   ]
  },
  {
   "cell_type": "code",
   "execution_count": null,
   "metadata": {},
   "outputs": [],
   "source": []
  },
  {
   "cell_type": "markdown",
   "metadata": {},
   "source": [
    "i am doing some more stuff more stuff added\n"
   ]
  }
 ],
 "metadata": {
  "kernelspec": {
   "display_name": "Python 3",
   "language": "python",
   "name": "python3"
  },
  "language_info": {
   "codemirror_mode": {
    "name": "ipython",
    "version": 3
   },
   "file_extension": ".py",
   "mimetype": "text/x-python",
   "name": "python",
   "nbconvert_exporter": "python",
   "pygments_lexer": "ipython3",
   "version": "3.7.1"
  }
 },
 "nbformat": 4,
 "nbformat_minor": 2
}
